{
 "cells": [
  {
   "cell_type": "code",
   "execution_count": 1,
   "metadata": {},
   "outputs": [
    {
     "data": {
      "text/plain": [
       "50"
      ]
     },
     "execution_count": 1,
     "metadata": {},
     "output_type": "execute_result"
    }
   ],
   "source": [
    "import random\n",
    "mylist = [10,20,30,40,50]\n",
    "random.choice(mylist)"
   ]
  },
  {
   "cell_type": "code",
   "execution_count": 2,
   "metadata": {},
   "outputs": [
    {
     "data": {
      "text/plain": [
       "11"
      ]
     },
     "execution_count": 2,
     "metadata": {},
     "output_type": "execute_result"
    }
   ],
   "source": [
    "random.randint(2,30)"
   ]
  },
  {
   "cell_type": "code",
   "execution_count": 3,
   "metadata": {},
   "outputs": [
    {
     "data": {
      "text/plain": [
       "['.git',\n",
       " '.gitignore',\n",
       " '.ipynb_checkpoints',\n",
       " 'LICENSE.md',\n",
       " 'mymodule.py',\n",
       " 'practice_06.ipynb',\n",
       " 'README.md',\n",
       " 'RemoveHalf',\n",
       " 'testfile.txt',\n",
       " 'Untitled.ipynb']"
      ]
     },
     "execution_count": 3,
     "metadata": {},
     "output_type": "execute_result"
    }
   ],
   "source": [
    "import os\n",
    "lst = os.listdir()\n",
    "lst"
   ]
  },
  {
   "cell_type": "code",
   "execution_count": 4,
   "metadata": {},
   "outputs": [
    {
     "data": {
      "text/plain": [
       "['.git',\n",
       " '.gitignore',\n",
       " '.ipynb_checkpoints',\n",
       " 'LICENSE.md',\n",
       " 'mymodule.py',\n",
       " 'practice_06.ipynb',\n",
       " 'README.md',\n",
       " 'RemoveHalf',\n",
       " 'testfile.txt',\n",
       " 'Untitled.ipynb']"
      ]
     },
     "execution_count": 4,
     "metadata": {},
     "output_type": "execute_result"
    }
   ],
   "source": [
    "os.listdir('.')"
   ]
  },
  {
   "cell_type": "code",
   "execution_count": 5,
   "metadata": {},
   "outputs": [
    {
     "data": {
      "text/plain": [
       "['DS_Assignment_07', 'DS_practice_06']"
      ]
     },
     "execution_count": 5,
     "metadata": {},
     "output_type": "execute_result"
    }
   ],
   "source": [
    "os.listdir('..')"
   ]
  },
  {
   "cell_type": "code",
   "execution_count": 6,
   "metadata": {},
   "outputs": [
    {
     "name": "stdout",
     "output_type": "stream",
     "text": [
      "hello world\n"
     ]
    }
   ],
   "source": [
    "import mymodule\n",
    "mymodule.hello()"
   ]
  },
  {
   "cell_type": "code",
   "execution_count": 7,
   "metadata": {},
   "outputs": [],
   "source": [
    "from mymodule import hello as hello_all,hello_you as hello_by_name,add as addition\n"
   ]
  },
  {
   "cell_type": "code",
   "execution_count": 8,
   "metadata": {},
   "outputs": [
    {
     "name": "stdout",
     "output_type": "stream",
     "text": [
      "hello world\n",
      "hello ggdgfd\n"
     ]
    },
    {
     "data": {
      "text/plain": [
       "5"
      ]
     },
     "execution_count": 8,
     "metadata": {},
     "output_type": "execute_result"
    }
   ],
   "source": [
    "hello_all()\n",
    "hello_by_name('ggdgfd')\n",
    "addition(2,3)"
   ]
  },
  {
   "cell_type": "code",
   "execution_count": null,
   "metadata": {},
   "outputs": [],
   "source": []
  },
  {
   "cell_type": "code",
   "execution_count": 9,
   "metadata": {},
   "outputs": [],
   "source": [
    "def remove_random_elements_from_list(lst,path):\n",
    "    \"\"\"remove half of files when choosing random file to remove every step\"\"\"\n",
    "    from os import listdir,remove\n",
    "    from random import choice\n",
    "    half = len(lst) // 2\n",
    "    for i in range(half):\n",
    "        lst = os.listdir(f'{path}')\n",
    "        to_remove = random.choice(lst)\n",
    "        os.remove(f'{path}/{to_remove}')\n",
    "\n",
    "    \n",
    "    "
   ]
  },
  {
   "cell_type": "code",
   "execution_count": 10,
   "metadata": {},
   "outputs": [],
   "source": [
    "def remove_random_elements_from_list_using_shuffle(lst,path):\n",
    "    \"\"\"remove half of files when choosing random file to remove every step\"\"\"\n",
    "    from os import listdir,remove\n",
    "    from random import shuffle\n",
    "    half = len(lst) // 2\n",
    "    shuffle(lst)\n",
    "    for i in range(half):   \n",
    "        to_remove = (lst[i])\n",
    "        os.remove(f'{path}/{to_remove}')"
   ]
  },
  {
   "cell_type": "code",
   "execution_count": 11,
   "metadata": {},
   "outputs": [
    {
     "name": "stdout",
     "output_type": "stream",
     "text": [
      "lst before length is 5 : ['Yjck5 - Copy (21) - Copy - Copy - Copy - Copy - Copy.jpg', 'Yjck5 - Copy (22) - Copy - Copy - Copy - Copy - Copy.jpg', 'Yjck5 - Copy (24) - Copy - Copy - Copy - Copy - Copy.jpg', 'Yjck5 - Copy (32) - Copy - Copy - Copy - Copy - Copy.jpg', 'Yjck5 - Copy (33) - Copy - Copy - Copy - Copy - Copy.jpg']  \n",
      "\n",
      "lst afterlength is 3 : ['Yjck5 - Copy (21) - Copy - Copy - Copy - Copy - Copy.jpg', 'Yjck5 - Copy (22) - Copy - Copy - Copy - Copy - Copy.jpg', 'Yjck5 - Copy (24) - Copy - Copy - Copy - Copy - Copy.jpg']\n"
     ]
    }
   ],
   "source": [
    "\n",
    "path = './RemoveHalf'\n",
    "lst = os.listdir('./RemoveHalf')\n",
    "print(f'lst before length is {len(lst)} : {lst}  ')\n",
    "remove_random_elements_from_list(lst,path)\n",
    "lst = os.listdir('./RemoveHalf')\n",
    "print(f'\\nlst afterlength is {len(lst)} : {lst}')"
   ]
  },
  {
   "cell_type": "code",
   "execution_count": 12,
   "metadata": {},
   "outputs": [
    {
     "name": "stdout",
     "output_type": "stream",
     "text": [
      "lst before length is 3 : ['Yjck5 - Copy (21) - Copy - Copy - Copy - Copy - Copy.jpg', 'Yjck5 - Copy (22) - Copy - Copy - Copy - Copy - Copy.jpg', 'Yjck5 - Copy (24) - Copy - Copy - Copy - Copy - Copy.jpg']  \n",
      "\n",
      "lst afterlength is 2 : ['Yjck5 - Copy (21) - Copy - Copy - Copy - Copy - Copy.jpg', 'Yjck5 - Copy (22) - Copy - Copy - Copy - Copy - Copy.jpg']\n"
     ]
    }
   ],
   "source": [
    "path = './RemoveHalf'\n",
    "lst = os.listdir('./RemoveHalf')\n",
    "print(f'lst before length is {len(lst)} : {lst}  ')\n",
    "remove_random_elements_from_list_using_shuffle(lst,path)\n",
    "lst = os.listdir('./RemoveHalf')\n",
    "print(f'\\nlst afterlength is {len(lst)} : {lst}')"
   ]
  },
  {
   "cell_type": "code",
   "execution_count": 13,
   "metadata": {},
   "outputs": [
    {
     "name": "stdout",
     "output_type": "stream",
     "text": [
      "start\n",
      "problem happen\n",
      "finish\n"
     ]
    }
   ],
   "source": [
    "print('start')\n",
    "try:\n",
    "    print(5/0)\n",
    "except:\n",
    "    print('problem happen')\n",
    "print('finish')"
   ]
  },
  {
   "cell_type": "code",
   "execution_count": 14,
   "metadata": {},
   "outputs": [
    {
     "name": "stdout",
     "output_type": "stream",
     "text": [
      "start\n",
      "2.5\n",
      "finish\n"
     ]
    }
   ],
   "source": [
    "print('start')\n",
    "try:\n",
    "    print(5/2)\n",
    "except:\n",
    "    print('problem happen')\n",
    "print('finish')"
   ]
  },
  {
   "cell_type": "code",
   "execution_count": 15,
   "metadata": {},
   "outputs": [],
   "source": [
    "try:\n",
    "    f = open('testfile.txt','w')\n",
    "    f.write('test write this')\n",
    "except IOError:\n",
    "    print('Error: could not find file or read data')\n",
    "f.close()"
   ]
  },
  {
   "cell_type": "code",
   "execution_count": 16,
   "metadata": {},
   "outputs": [],
   "source": [
    "lst = os.listdir('./RemoveHalf')"
   ]
  },
  {
   "cell_type": "code",
   "execution_count": null,
   "metadata": {},
   "outputs": [],
   "source": []
  }
 ],
 "metadata": {
  "kernelspec": {
   "display_name": "Python 3",
   "language": "python",
   "name": "python3"
  },
  "language_info": {
   "codemirror_mode": {
    "name": "ipython",
    "version": 3
   },
   "file_extension": ".py",
   "mimetype": "text/x-python",
   "name": "python",
   "nbconvert_exporter": "python",
   "pygments_lexer": "ipython3",
   "version": "3.8.5"
  }
 },
 "nbformat": 4,
 "nbformat_minor": 4
}
